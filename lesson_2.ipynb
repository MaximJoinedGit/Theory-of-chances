{
 "cells": [
  {
   "cell_type": "markdown",
   "metadata": {},
   "source": [
    "## <center><b>ДЗ к уроку 1</b></center><hr>"
   ]
  },
  {
   "cell_type": "markdown",
   "metadata": {},
   "source": [
    "### 1. Вероятность того, что стрелок попадет в мишень, выстрелив один раз, равна 0.8. Стрелок выстрелил 100 раз. Найдите вероятность того, что стрелок попадет в цель ровно 85 раз."
   ]
  },
  {
   "cell_type": "markdown",
   "metadata": {},
   "source": [
    "$P = 0,8; \\;\\; q = 0,2; \\;\\; n = 100; \\;\\; m = 85$"
   ]
  },
  {
   "cell_type": "markdown",
   "metadata": {},
   "source": [
    "#### $x = \\frac{m - n\\cdot p}{\\sqrt{n\\cdot p\\cdot q}}; \\;\\; \\varphi(x) = \\frac{1}{\\sqrt{2 \\pi}} \\cdot e^{-{x^2}/2}; \\;\\; P_n(m) = \\frac{1}{\\sqrt{n\\cdot p\\cdot q}} \\cdot \\varphi(x)$"
   ]
  },
  {
   "cell_type": "markdown",
   "metadata": {},
   "source": [
    "#### $x = \\frac{85 - 100 \\cdot 0,8}{\\sqrt{100 \\cdot 0,8 \\cdot 0,2}} = \\frac{5}{4} = 1,25$"
   ]
  },
  {
   "cell_type": "markdown",
   "metadata": {},
   "source": [
    "#### $\\varphi(1,25) = \\frac{1}{\\sqrt{2\\pi}} \\cdot e^{-0,78125} = \\frac{1}{2,5} \\cdot 0,4578 = 0,1831$"
   ]
  },
  {
   "cell_type": "markdown",
   "metadata": {},
   "source": [
    "#### $P = \\frac{1}{\\sqrt{n \\cdot p \\cdot q}} \\cdot \\varphi(1,25) = \\frac{0,1831}{4} = 0,0458$"
   ]
  },
  {
   "cell_type": "markdown",
   "metadata": {},
   "source": [
    "### 2. Вероятность того, что лампочка перегорит в течение первого дня эксплуатации, равна 0.0004. В жилом комплексе после ремонта в один день включили 5000 новых лампочек. Какова вероятность, что ни одна из них не перегорит в первый день? Какова вероятность, что перегорят ровно две?"
   ]
  },
  {
   "cell_type": "markdown",
   "metadata": {},
   "source": [
    "#### $P = 0,0004; \\;\\; n = 5000$"
   ]
  },
  {
   "cell_type": "markdown",
   "metadata": {},
   "source": [
    "#### $\\lambda = n \\cdot p; \\;\\; P = \\frac{\\lambda^m}{m!} \\cdot e^{-\\lambda}$"
   ]
  },
  {
   "cell_type": "markdown",
   "metadata": {},
   "source": [
    "#### $\\lambda = 5000 \\cdot 0,0004 = 2$"
   ]
  },
  {
   "cell_type": "markdown",
   "metadata": {},
   "source": [
    "#### а) Ни одна лампочка не перегорит, $m = 0$"
   ]
  },
  {
   "cell_type": "markdown",
   "metadata": {},
   "source": [
    "#### $P = \\frac{2^0}{0!} \\cdot e^{-2} = 0,135335$"
   ]
  },
  {
   "cell_type": "markdown",
   "metadata": {},
   "source": [
    "#### б) Перегорят ровно две лампочки, $m = 2$"
   ]
  },
  {
   "cell_type": "markdown",
   "metadata": {},
   "source": [
    "#### $P = \\frac{2^2}{2!} \\cdot e^{-2} = 2 \\cdot e^{-2} = 0,27067$"
   ]
  },
  {
   "cell_type": "markdown",
   "metadata": {},
   "source": [
    "### 3. Монету подбросили 144 раза. Какова вероятность, что орел выпадет ровно 70 раз?"
   ]
  },
  {
   "cell_type": "markdown",
   "metadata": {},
   "source": [
    "$P = 0,5; \\;\\; q = 0,5; \\;\\; n = 144; \\;\\; m = 70$"
   ]
  },
  {
   "cell_type": "markdown",
   "metadata": {},
   "source": [
    "#### $x = \\frac{m - n\\cdot p}{\\sqrt{n\\cdot p\\cdot q}}; \\;\\; \\varphi(x) = \\frac{1}{\\sqrt{2 \\pi}} \\cdot e^{-{x^2}/2}; \\;\\; P_n(m) = \\frac{1}{\\sqrt{n\\cdot p\\cdot q}} \\cdot \\varphi(x)$"
   ]
  },
  {
   "cell_type": "markdown",
   "metadata": {},
   "source": [
    "#### $x = \\frac{70 - 144 \\cdot 0,5}{\\sqrt{144 \\cdot 0,5 \\cdot 0,5}} = -\\frac{2}{6} = -0,333$"
   ]
  },
  {
   "cell_type": "markdown",
   "metadata": {},
   "source": [
    "#### $\\varphi(-0,333) = \\frac{1}{\\sqrt{2\\pi}} \\cdot e^{-0,0555} = \\frac{1}{2,5} \\cdot 0,946 = 0,3784$"
   ]
  },
  {
   "cell_type": "markdown",
   "metadata": {},
   "source": [
    "#### $P = \\frac{1}{\\sqrt{n \\cdot p \\cdot q}} \\cdot \\varphi(-0,333) = \\frac{0,3784}{6} = 0,063$"
   ]
  },
  {
   "cell_type": "markdown",
   "metadata": {},
   "source": [
    "### 4. В первом ящике находится 10 мячей, из которых 7 - белые. Во втором ящике - 11 мячей, из которых 9 белых. Из каждого ящика вытаскивают случайным образом по два мяча. Какова вероятность того, что все мячи белые? Какова вероятность того, что ровно два мяча белые? Какова вероятность того, что хотя бы один мяч белый?"
   ]
  },
  {
   "cell_type": "markdown",
   "metadata": {},
   "source": [
    "#### а) Все мячи белые"
   ]
  },
  {
   "cell_type": "markdown",
   "metadata": {},
   "source": [
    "#### $C_7^2 = \\frac{7!}{2! \\cdot 5!} = 21$"
   ]
  },
  {
   "cell_type": "markdown",
   "metadata": {},
   "source": [
    "#### $C_{10}^2 = \\frac{10!}{2! \\cdot 8!} = 45$"
   ]
  },
  {
   "cell_type": "markdown",
   "metadata": {},
   "source": [
    "#### $C_9^2 = \\frac{9!}{2! \\cdot 7!} = 36$"
   ]
  },
  {
   "cell_type": "markdown",
   "metadata": {},
   "source": [
    "#### $C_{11}^2 = \\frac{11!}{2! \\cdot 9!} = 55$"
   ]
  },
  {
   "cell_type": "markdown",
   "metadata": {},
   "source": [
    "#### $P = \\frac{C_7^2 \\cdot C_3^0}{C_{10}^2} \\cdot \\frac{C_9^2 \\cdot C_2^0}{C_{11}^2} = \\frac{21 \\cdot 1 \\cdot 36 \\cdot 1}{45 \\cdot 55} = \\frac{756}{2475} = 0,305454$"
   ]
  },
  {
   "cell_type": "markdown",
   "metadata": {},
   "source": [
    "#### б) Ровно 2 мяча белые"
   ]
  },
  {
   "cell_type": "markdown",
   "metadata": {},
   "source": [
    "#### $P = \\frac{C_7^2 \\cdot C_3^0}{C_{10}^2} \\cdot \\frac{C_9^0 \\cdot C_2^2}{C_{11}^2} + \\frac{C_7^1 \\cdot C_3^1}{C_{10}^2} \\cdot \\frac{C_9^1 \\cdot C_2^1}{C_{11}^2} + \\frac{C_7^0 \\cdot C_3^2}{C_{10}^2} \\cdot \\frac{C_9^2 \\cdot C_2^0}{C_{11}^2} = \\frac{21 \\cdot 1}{45} \\cdot \\frac{1 \\cdot 1}{55} + \\frac{7 \\cdot 3}{45} \\cdot \\frac{9 \\cdot 2}{55} + \\frac{1 \\cdot 3}{45} \\cdot \\frac{36 \\cdot 1}{55} = \\frac{21}{2475} + \\frac{378}{2475} + \\frac{108}{2475} = \\frac{507}{2475} = 0,204848$"
   ]
  },
  {
   "cell_type": "markdown",
   "metadata": {},
   "source": [
    "#### в) Хотя бы 1 мяч белый"
   ]
  },
  {
   "cell_type": "markdown",
   "metadata": {},
   "source": [
    "#### $P = 1 - \\frac{C_7^0 \\cdot C_3^2}{C_{10}^2} \\cdot \\frac{C_9^0 \\cdot C_2^2}{C_{11}^2} = 1 - \\frac{1 \\cdot 3}{45} \\cdot \\frac{1 \\cdot 1}{55} = 0,998787$"
   ]
  }
 ],
 "metadata": {
  "kernelspec": {
   "display_name": "Python 3",
   "language": "python",
   "name": "python3"
  },
  "language_info": {
   "codemirror_mode": {
    "name": "ipython",
    "version": 3
   },
   "file_extension": ".py",
   "mimetype": "text/x-python",
   "name": "python",
   "nbconvert_exporter": "python",
   "pygments_lexer": "ipython3",
   "version": "3.8.5"
  }
 },
 "nbformat": 4,
 "nbformat_minor": 4
}
