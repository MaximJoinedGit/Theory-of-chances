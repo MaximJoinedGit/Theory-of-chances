{
 "cells": [
  {
   "cell_type": "markdown",
   "metadata": {},
   "source": [
    "## <center><b>ДЗ к уроку 1</b></center><hr>"
   ]
  },
  {
   "cell_type": "markdown",
   "metadata": {},
   "source": [
    "### 1. Из колоды в 52 карты извлекаются случайным образом 4 карты. \n",
    "#### - a) Найти вероятность того, что все карты – крести. \n",
    "#### - б) Найти вероятность, что среди 4-х карт окажется хотя бы один туз."
   ]
  },
  {
   "cell_type": "markdown",
   "metadata": {},
   "source": [
    "<hr>\n",
    "\n",
    "#### a) $C_{52}^4 = \\frac{52!}{4!\\cdot48!} = \\frac{49\\cdot50\\cdot51\\cdot52}{1\\cdot2\\cdot3\\cdot4} = 270725$"
   ]
  },
  {
   "cell_type": "markdown",
   "metadata": {},
   "source": [
    "#### $C_{13}^4 = \\frac{13!}{4!\\cdot9!} = \\frac{10\\cdot11\\cdot12\\cdot13}{1\\cdot2\\cdot3\\cdot4} = 715$"
   ]
  },
  {
   "cell_type": "markdown",
   "metadata": {},
   "source": [
    "#### $C_{39}^0 = \\frac{39!}{0!\\cdot39!} = 1$"
   ]
  },
  {
   "cell_type": "markdown",
   "metadata": {},
   "source": [
    "#### $P = \\frac{C_{13}^4 \\cdot C_{39}^0}{C_{52}^4} = \\frac{715\\cdot1}{270725} = 0.00264$"
   ]
  },
  {
   "cell_type": "markdown",
   "metadata": {},
   "source": [
    "<hr>\n",
    "\n",
    "#### б) $C_{52}^4 = 270725$"
   ]
  },
  {
   "cell_type": "markdown",
   "metadata": {},
   "source": [
    "#### $C_4^1 = \\frac{4!}{1!\\cdot3!} = 4$"
   ]
  },
  {
   "cell_type": "markdown",
   "metadata": {},
   "source": [
    "#### $C_4^2 = \\frac{4!}{2!\\cdot2!} = 6$"
   ]
  },
  {
   "cell_type": "markdown",
   "metadata": {},
   "source": [
    "#### $C_4^3 = \\frac{4!}{3!\\cdot1!} = 4$"
   ]
  },
  {
   "cell_type": "markdown",
   "metadata": {},
   "source": [
    "#### $C_4^4 = \\frac{4!}{4!\\cdot0!} = 1$"
   ]
  },
  {
   "cell_type": "markdown",
   "metadata": {},
   "source": [
    "#### $C_{48}^0 = 1$"
   ]
  },
  {
   "cell_type": "markdown",
   "metadata": {},
   "source": [
    "#### $C_{48}^1 = \\frac{48!}{1!\\cdot47!} = 48$"
   ]
  },
  {
   "cell_type": "markdown",
   "metadata": {},
   "source": [
    "#### $C_{48}^2 = \\frac{48!}{2!\\cdot46!} = \\frac{47\\cdot48}{1\\cdot2} = 1128$"
   ]
  },
  {
   "cell_type": "markdown",
   "metadata": {},
   "source": [
    "#### $C_{48}^3 = \\frac{48!}{3!\\cdot45!} = \\frac{46\\cdot47\\cdot48}{1\\cdot2\\cdot3} = 17296$"
   ]
  },
  {
   "cell_type": "markdown",
   "metadata": {},
   "source": [
    "#### $P = \\frac{C_4^1 \\cdot C_{48}^3 + C_4^2 \\cdot C_{48}^2 + C_4^3 \\cdot C_{48}^1 + C_4^4 \\cdot C_{48}^0}{C_{52}^4} = \\frac{4\\cdot17296 + 6\\cdot1128 + 4\\cdot48 + 1\\cdot1}{270725} = 0.28125$"
   ]
  },
  {
   "cell_type": "markdown",
   "metadata": {},
   "source": [
    "### 2. На входной двери подъезда установлен кодовый замок, содержащий десять кнопок с цифрами от 0 до 9 Код содержит три цифры, которые нужно нажать одновременно. Какова вероятность того, что человек, не знающий код, откроет дверь с первой попытки?"
   ]
  },
  {
   "cell_type": "markdown",
   "metadata": {},
   "source": [
    "#### $C_{10}^3 = \\frac{10!}{3!\\cdot7!} = 120$"
   ]
  },
  {
   "cell_type": "markdown",
   "metadata": {},
   "source": [
    "#### $C_3^3 = 1$"
   ]
  },
  {
   "cell_type": "markdown",
   "metadata": {},
   "source": [
    "#### $C_7^0 = 1$"
   ]
  },
  {
   "cell_type": "markdown",
   "metadata": {},
   "source": [
    "#### $P = \\frac{C_3^3 \\cdot C_7^0}{C_{10}^3} = \\frac{1\\cdot1}{120} = 0.00833$"
   ]
  },
  {
   "cell_type": "markdown",
   "metadata": {},
   "source": [
    "### 3. В ящике имеется 15 деталей, из которых 9 окрашены. Рабочий случайным образом извлекает 3 детали. Какова вероятность того, что все извлеченные детали окрашены?"
   ]
  },
  {
   "cell_type": "markdown",
   "metadata": {},
   "source": [
    "#### $C_{15}^3 = \\frac{15!}{3!\\cdot12!} = \\frac{13\\cdot14\\cdot15}{1\\cdot2\\cdot3} = 455$"
   ]
  },
  {
   "cell_type": "markdown",
   "metadata": {},
   "source": [
    "#### $C_9^3 = \\frac{9!}{3!\\cdot6!} = \\frac{7\\cdot8\\cdot9}{1\\cdot2\\cdot3} = 84$"
   ]
  },
  {
   "cell_type": "markdown",
   "metadata": {},
   "source": [
    "#### $C_6^0 = 1$"
   ]
  },
  {
   "cell_type": "markdown",
   "metadata": {},
   "source": [
    "#### $P = \\frac{C_9^3 \\cdot C_6^0}{C_{15}^3} = \\frac{84}{455}= 0.1846$"
   ]
  },
  {
   "cell_type": "markdown",
   "metadata": {},
   "source": [
    "### 4. В лотерее 100 билетов. Из них 2 выигрышных. Какова вероятность того, что 2 приобретенных билета окажутся выигрышными?"
   ]
  },
  {
   "cell_type": "markdown",
   "metadata": {},
   "source": [
    "#### $C_{100}^2 = \\frac{100!}{2!\\cdot98!} = \\frac{99\\cdot100}{1\\cdot2} = 4950$"
   ]
  },
  {
   "cell_type": "markdown",
   "metadata": {},
   "source": [
    "#### $C_2^2 = 1$"
   ]
  },
  {
   "cell_type": "markdown",
   "metadata": {},
   "source": [
    "#### $C_{98}^0 = 1$"
   ]
  },
  {
   "cell_type": "markdown",
   "metadata": {},
   "source": [
    "#### $P = \\frac{C_2^2 \\cdot C_{98}^0}{C_{100}^2} = \\frac{1}{4950} = 0.000202$"
   ]
  }
 ],
 "metadata": {
  "kernelspec": {
   "display_name": "Python 3",
   "language": "python",
   "name": "python3"
  },
  "language_info": {
   "codemirror_mode": {
    "name": "ipython",
    "version": 3
   },
   "file_extension": ".py",
   "mimetype": "text/x-python",
   "name": "python",
   "nbconvert_exporter": "python",
   "pygments_lexer": "ipython3",
   "version": "3.8.5"
  }
 },
 "nbformat": 4,
 "nbformat_minor": 4
}
