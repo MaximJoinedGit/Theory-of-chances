{
 "cells": [
  {
   "cell_type": "markdown",
   "metadata": {},
   "source": [
    "## <center><b>ДЗ к уроку 4</b></center><hr>"
   ]
  },
  {
   "cell_type": "markdown",
   "metadata": {},
   "source": [
    "### 1. Случайная непрерывная величина A имеет равномерное распределение на промежутке (200, 800]. Найдите ее среднее значение и дисперсию."
   ]
  },
  {
   "cell_type": "markdown",
   "metadata": {},
   "source": [
    "#### $M(x) = \\frac{a + b}{2} = \\frac{800 + 200}{2} = 500$"
   ]
  },
  {
   "cell_type": "markdown",
   "metadata": {},
   "source": [
    "#### $\\sigma^2 = \\frac{(b - a)^2}{12} = \\frac{(800 - 200)^2}{12} = 30000$"
   ]
  },
  {
   "cell_type": "markdown",
   "metadata": {},
   "source": [
    "### 2. О случайной непрерывной равномерно распределенной величине B известно, что ее дисперсия равна 0.2. Можно ли найти правую границу величины B и ее среднее значение зная, что левая граница равна 0.5? Если да, найдите ее."
   ]
  },
  {
   "cell_type": "markdown",
   "metadata": {},
   "source": [
    "#### $\\sigma^2 = 0,2 \\;\\; a = 0,5$"
   ]
  },
  {
   "cell_type": "markdown",
   "metadata": {},
   "source": [
    "#### $\\sigma^2 = \\frac{(b - a)^2}{12} = \\frac{(b - 0,5)^2}{12} = 0,2; \\;\\; b - 0,5 = \\sqrt{12 \\cdot 0,2}$"
   ]
  },
  {
   "cell_type": "markdown",
   "metadata": {},
   "source": [
    "#### $b = 0,5 + \\sqrt{12 \\cdot 0,2} = 0,5 + \\sqrt{2,4} = 0,5 + 1,55 = 2,05$"
   ]
  },
  {
   "cell_type": "markdown",
   "metadata": {},
   "source": [
    "#### $M(x) = \\frac{a + b}{2} = \\frac{2,05 + 0,5}{2} = 1,275$"
   ]
  },
  {
   "cell_type": "markdown",
   "metadata": {},
   "source": [
    "### 3. Непрерывная случайная величина X распределена нормально и задана плотностью распределения\n",
    "### $f(x) = (\\frac{1}{4 \\cdot \\sqrt{(2 \\cdot \\pi)}}) \\cdot e^{-\\frac{(x+2)^2}{32}}$\n",
    "\n",
    "Найдите:\n",
    "\n",
    "а) M(X)\n",
    "\n",
    "б) D(X)\n",
    "\n",
    "в) std(X) (среднее квадратичное отклонение)"
   ]
  },
  {
   "cell_type": "markdown",
   "metadata": {},
   "source": [
    "Плотность распределения подчиняется формуле\n",
    "\n",
    "### $f(x) = \\frac{1}{\\sigma \\cdot \\sqrt{2 \\cdot \\pi}} \\cdot e^{- \\frac{(x - a)^2}{2 \\cdot \\sigma^2}}$\n",
    "\n",
    "Следовательно, у нас уже есть все значения - они стоят в формуле в виде коэффициентов.232"
   ]
  },
  {
   "cell_type": "markdown",
   "metadata": {},
   "source": [
    "#### $std(x) = \\sigma = 4; \\;\\; D(x) = \\sigma^2 = 16; \\;\\; M(x) = a = -2$"
   ]
  },
  {
   "cell_type": "markdown",
   "metadata": {},
   "source": [
    "Аналогично предыдущей задаче найдем правую границу"
   ]
  },
  {
   "cell_type": "markdown",
   "metadata": {},
   "source": [
    "### 4. Рост взрослого населения города X имеет нормальное распределение. Причем, средний рост равен 174 см, а среднее квадратичное отклонение равно 8 см. Какова вероятность того, что случайным образом выбранный взрослый человек имеет рост:\n",
    "а) больше 182 см\n",
    "\n",
    "б) больше 190 см\n",
    "\n",
    "в) от 166 см до 190 см\n",
    "\n",
    "г) от 166 см до 182 см\n",
    "\n",
    "д) от 158 см до 190 см\n",
    "\n",
    "е) не выше 150 см или не ниже 190 см\n",
    "\n",
    "ё) не выше 150 см или не ниже 198 см\n",
    "\n",
    "ж) ниже 166 см."
   ]
  },
  {
   "cell_type": "markdown",
   "metadata": {},
   "source": [
    "#### $M(x) = 174; \\;\\; \\sigma = 8; \\;\\; P(\\alpha < x < \\beta) = \\Phi(\\frac{\\beta - M}{\\sigma}) - \\Phi(\\frac{\\alpha - M}{\\sigma})$"
   ]
  },
  {
   "cell_type": "markdown",
   "metadata": {},
   "source": [
    "#### В вычислениях ниже я буду ограничиваться минимальным значением роста 0 и максимальным ростом когда-либо зарегистрированным (Роберт Вадлоу - 272см). Просто рост от минус бесконечности (особенно) до плюс бесконечности звучит, мягко говоря, странно."
   ]
  },
  {
   "cell_type": "markdown",
   "metadata": {},
   "source": [
    "<hr>\n",
    "\n",
    "#### а) $\\alpha = 182; \\;\\; \\beta = 272$"
   ]
  },
  {
   "cell_type": "markdown",
   "metadata": {},
   "source": [
    "#### $P(182 < x < 272) = \\Phi(\\frac{272 - 174}{8}) - \\Phi(\\frac{182 - 174}{8}) = \\Phi(98,0) - \\Phi(1,0) = 0,5 -0,3413 = 0,1587$"
   ]
  },
  {
   "cell_type": "markdown",
   "metadata": {},
   "source": [
    "<hr>\n",
    "\n",
    "#### б) $\\alpha = 190; \\;\\; \\beta = 272$"
   ]
  },
  {
   "cell_type": "markdown",
   "metadata": {},
   "source": [
    "#### $P(190 < x < 272) = \\Phi(\\frac{272 - 174}{8}) - \\Phi(\\frac{190 - 174}{8}) = \\Phi(98,0) - \\Phi(2,0) = 0,5 - 0,4773 = 0,0227$"
   ]
  },
  {
   "cell_type": "markdown",
   "metadata": {},
   "source": [
    "<hr>\n",
    "\n",
    "#### в) $\\alpha = 166; \\;\\; \\beta=190$"
   ]
  },
  {
   "cell_type": "markdown",
   "metadata": {},
   "source": [
    "#### $P(166 < x < 190) = \\Phi(\\frac{190 - 174}{8}) - \\Phi(\\frac{166 - 174}{8}) = \\Phi(2,0) + \\Phi(1,0) = 0,4773 + 0,3413 = 0,8186$"
   ]
  },
  {
   "cell_type": "markdown",
   "metadata": {},
   "source": [
    "<hr>\n",
    "\n",
    "#### г) $\\alpha = 166; \\;\\; \\beta = 182$"
   ]
  },
  {
   "cell_type": "markdown",
   "metadata": {},
   "source": [
    "#### $P(166 < x < 182) = \\Phi(\\frac{182 - 174}{8}) - \\Phi(\\frac{166 - 174}{8}) = \\Phi(1,0) + \\Phi(1,0) = 0,3413 + 0,3413 = 0,6826$"
   ]
  },
  {
   "cell_type": "markdown",
   "metadata": {},
   "source": [
    "<hr>\n",
    "\n",
    "#### д) $\\alpha = 158; \\;\\; \\beta = 190$"
   ]
  },
  {
   "cell_type": "markdown",
   "metadata": {},
   "source": [
    "#### $P(158 < x < 190) = \\Phi(\\frac{190 - 174}{8}) - \\Phi(\\frac{158 - 174}{8}) = \\Phi(2,0) + \\Phi(2,0) = 0,4773 + 0,4773 = 0,9546$"
   ]
  },
  {
   "cell_type": "markdown",
   "metadata": {},
   "source": [
    "<hr>\n",
    "\n",
    "#### е) $\\alpha = 0; \\;\\; \\beta = 150 \\;\\; или \\;\\; \\alpha = 190; \\;\\; \\beta = 272$"
   ]
  },
  {
   "cell_type": "markdown",
   "metadata": {},
   "source": [
    "#### $P(0 < x < 150) = \\Phi(\\frac{150 - 174}{8}) - \\Phi(\\frac{0 - 174}{8}) = -\\Phi(3,0) + \\Phi(21,75) = -0,4987 + 0,5 = 0,0013$"
   ]
  },
  {
   "cell_type": "markdown",
   "metadata": {},
   "source": [
    "#### $P(190 < x < 272) = \\Phi(\\frac{272 - 174}{8}) - \\Phi(\\frac{190 - 174}{8}) = \\Phi(12,25) - \\Phi(2,0) = 0,5 - 0,4773 = 0,0227$"
   ]
  },
  {
   "cell_type": "markdown",
   "metadata": {},
   "source": [
    "#### $P_{общ} = P(0 < x < 150) + P(190 < x < 272) = 0,0013 + 0,0227 = 0,024$"
   ]
  },
  {
   "cell_type": "markdown",
   "metadata": {},
   "source": [
    "<hr>\n",
    "\n",
    "#### ё) $\\alpha = 0; \\;\\; \\beta = 150 \\;\\; и \\;\\; \\alpha = 198; \\;\\; \\beta = 272$"
   ]
  },
  {
   "cell_type": "markdown",
   "metadata": {},
   "source": [
    "#### $P(0 < x < 150) = \\Phi(\\frac{150 - 174}{8}) - \\Phi(\\frac{0 - 174}{8}) = -\\Phi(3,0) + \\Phi(21,75) = -0,4987 + 0,5 = 0,0013$"
   ]
  },
  {
   "cell_type": "markdown",
   "metadata": {},
   "source": [
    "#### $P(198 < x < 272) = \\Phi(\\frac{272 - 174}{8}) - \\Phi(\\frac{198 - 174}{8}) = \\Phi(12,25) - \\Phi(3,0) = 0,5 - 0,4987 = 0,0013$"
   ]
  },
  {
   "cell_type": "markdown",
   "metadata": {},
   "source": [
    "#### $P_{общ} = P(0 < x < 150) + P(198 < x < 272) = 0,0013 + 0,0013 = 0,0026$"
   ]
  },
  {
   "cell_type": "markdown",
   "metadata": {},
   "source": [
    "<hr>\n",
    "\n",
    "#### ж) $\\alpha = 0; \\;\\; \\beta = 166$"
   ]
  },
  {
   "cell_type": "markdown",
   "metadata": {},
   "source": [
    "#### $P(0 < x < 166) = \\Phi(\\frac{166 - 174}{8}) - \\Phi(\\frac{0 - 174}{8}) = -\\Phi(1,0) + \\Phi(21,75) = -0,3413 + 0,5 = 0,1587$"
   ]
  },
  {
   "cell_type": "markdown",
   "metadata": {},
   "source": [
    "### 5. На сколько сигм (средних квадратичных отклонений) отклоняется рост человека, равный 190 см, от математического ожидания роста в популяции, в которой M(X) = 178 см и D(X) = 25 кв.см?"
   ]
  },
  {
   "cell_type": "markdown",
   "metadata": {},
   "source": [
    "#### $t = \\frac{x_i - \\overline{x}}{S} = \\frac{190 - 178}{\\sqrt{25}} = \\frac{12}{5} = 2,4$"
   ]
  }
 ],
 "metadata": {
  "kernelspec": {
   "display_name": "Python 3",
   "language": "python",
   "name": "python3"
  },
  "language_info": {
   "codemirror_mode": {
    "name": "ipython",
    "version": 3
   },
   "file_extension": ".py",
   "mimetype": "text/x-python",
   "name": "python",
   "nbconvert_exporter": "python",
   "pygments_lexer": "ipython3",
   "version": "3.8.5"
  }
 },
 "nbformat": 4,
 "nbformat_minor": 4
}
